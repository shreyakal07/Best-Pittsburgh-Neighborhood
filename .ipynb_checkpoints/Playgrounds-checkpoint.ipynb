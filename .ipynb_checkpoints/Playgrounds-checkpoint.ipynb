{
 "cells": [
  {
   "cell_type": "code",
   "execution_count": 1,
   "metadata": {},
   "outputs": [],
   "source": [
    "import pandas as pd\n",
    "import numpy as np\n",
    "import pickle"
   ]
  },
  {
   "cell_type": "code",
   "execution_count": 3,
   "metadata": {},
   "outputs": [],
   "source": [
    "playground_list_pandas = pd.read_csv(\"Data/playgrounds.csv\")"
   ]
  },
  {
   "cell_type": "code",
   "execution_count": 4,
   "metadata": {},
   "outputs": [],
   "source": [
    "playground_dict = {}\n",
    "for index, row in playground_list_pandas.iterrows():\n",
    "    if row['neighborhood'] in playground_dict.keys():\n",
    "        playground_dict[row['neighborhood']] += 1\n",
    "    else:\n",
    "        playground_dict[row['neighborhood']] = 1"
   ]
  },
  {
   "cell_type": "code",
   "execution_count": 5,
   "metadata": {},
   "outputs": [
    {
     "name": "stdout",
     "output_type": "stream",
     "text": [
      "{'Beechview': 5, 'Crawford-Roberts': 3, 'Central Northside': 2, 'Bedford Dwellings': 1, 'South Side Slopes': 5, 'South Side Flats': 2, 'Lower Lawrenceville': 1, 'Banksville': 1, 'Homewood North': 1, 'Bon Air': 1, 'Central Oakland': 1, 'Brighton Heights': 2, 'Brookline': 2, 'Hazelwood': 3, 'Squirrel Hill South': 8, 'Spring Garden': 1, 'Lincoln-Lemington-Belmar': 2, 'Windgap': 1, 'Troy Hill': 2, 'Westwood': 1, 'Perry South': 1, 'Homewood West': 1, 'Allegheny Center': 4, 'Strip District': 1, 'Stanton Heights': 1, 'Crafton Heights': 2, 'West Oakland': 1, 'East Carnegie': 1, 'Duquesne Heights': 1, 'East Liberty': 3, 'Esplen': 1, 'Fairywood': 1, 'Highland Park': 4, 'Upper Lawrenceville': 3, 'Fineview': 1, 'Regent Square': 1, 'Garfield': 2, 'Greenfield': 2, 'South Oakland': 3, 'Allentown': 1, 'Hays': 1, 'Elliott': 3, 'Morningside': 2, 'Terrace Village': 1, 'Larimer': 1, 'Carrick': 3, 'Central Lawrenceville': 1, 'Lincoln Place': 2, 'Manchester': 2, 'Marshall-Shadeland': 2, 'Sheraden': 4, 'Beltzhoover': 4, 'Shadyside': 1, 'Mount Washington': 3, 'Oakwood': 1, 'Bloomfield': 2, 'Perry North': 1, 'Upper Hill': 1, 'New Homestead': 1, 'Spring Hill-City View': 1, 'Swisshelm Park': 1, 'Bluff': 1, 'Middle Hill': 1, 'West End': 1, 'Polish Hill': 1, 'Point Breeze North': 1, 'Squirrel Hill North': 1}\n"
     ]
    }
   ],
   "source": [
    "print(playground_dict)"
   ]
  },
  {
   "cell_type": "code",
   "execution_count": 9,
   "metadata": {},
   "outputs": [
    {
     "name": "stdout",
     "output_type": "stream",
     "text": [
      "dict_values([5, 3, 2, 1, 5, 2, 1, 1, 1, 1, 1, 2, 2, 3, 8, 1, 2, 1, 2, 1, 1, 1, 4, 1, 1, 2, 1, 1, 1, 3, 1, 1, 4, 3, 1, 1, 2, 2, 3, 1, 1, 3, 2, 1, 1, 3, 1, 2, 2, 2, 4, 4, 1, 3, 1, 2, 1, 1, 1, 1, 1, 1, 1, 1, 1, 1, 1])\n"
     ]
    }
   ],
   "source": [
    "print(playground_dict.values())"
   ]
  },
  {
   "cell_type": "code",
   "execution_count": 6,
   "metadata": {},
   "outputs": [
    {
     "data": {
      "text/plain": [
       "8"
      ]
     },
     "execution_count": 6,
     "metadata": {},
     "output_type": "execute_result"
    }
   ],
   "source": [
    "max(playground_dict.values())"
   ]
  },
  {
   "cell_type": "code",
   "execution_count": 7,
   "metadata": {},
   "outputs": [],
   "source": [
    "for key in playground_dict.keys():\n",
    "    playground_dict[key] = (playground_dict[key]/8) * 100"
   ]
  },
  {
   "cell_type": "code",
   "execution_count": 8,
   "metadata": {},
   "outputs": [
    {
     "name": "stdout",
     "output_type": "stream",
     "text": [
      "{'Beechview': 62.5, 'Crawford-Roberts': 37.5, 'Central Northside': 25.0, 'Bedford Dwellings': 12.5, 'South Side Slopes': 62.5, 'South Side Flats': 25.0, 'Lower Lawrenceville': 12.5, 'Banksville': 12.5, 'Homewood North': 12.5, 'Bon Air': 12.5, 'Central Oakland': 12.5, 'Brighton Heights': 25.0, 'Brookline': 25.0, 'Hazelwood': 37.5, 'Squirrel Hill South': 100.0, 'Spring Garden': 12.5, 'Lincoln-Lemington-Belmar': 25.0, 'Windgap': 12.5, 'Troy Hill': 25.0, 'Westwood': 12.5, 'Perry South': 12.5, 'Homewood West': 12.5, 'Allegheny Center': 50.0, 'Strip District': 12.5, 'Stanton Heights': 12.5, 'Crafton Heights': 25.0, 'West Oakland': 12.5, 'East Carnegie': 12.5, 'Duquesne Heights': 12.5, 'East Liberty': 37.5, 'Esplen': 12.5, 'Fairywood': 12.5, 'Highland Park': 50.0, 'Upper Lawrenceville': 37.5, 'Fineview': 12.5, 'Regent Square': 12.5, 'Garfield': 25.0, 'Greenfield': 25.0, 'South Oakland': 37.5, 'Allentown': 12.5, 'Hays': 12.5, 'Elliott': 37.5, 'Morningside': 25.0, 'Terrace Village': 12.5, 'Larimer': 12.5, 'Carrick': 37.5, 'Central Lawrenceville': 12.5, 'Lincoln Place': 25.0, 'Manchester': 25.0, 'Marshall-Shadeland': 25.0, 'Sheraden': 50.0, 'Beltzhoover': 50.0, 'Shadyside': 12.5, 'Mount Washington': 37.5, 'Oakwood': 12.5, 'Bloomfield': 25.0, 'Perry North': 12.5, 'Upper Hill': 12.5, 'New Homestead': 12.5, 'Spring Hill-City View': 12.5, 'Swisshelm Park': 12.5, 'Bluff': 12.5, 'Middle Hill': 12.5, 'West End': 12.5, 'Polish Hill': 12.5, 'Point Breeze North': 12.5, 'Squirrel Hill North': 12.5}\n"
     ]
    }
   ],
   "source": [
    "print(playground_dict)"
   ]
  },
  {
   "cell_type": "code",
   "execution_count": 9,
   "metadata": {},
   "outputs": [],
   "source": [
    "pickle.dump(playground_dict, open(\"playground_results.pkl\", \"wb\"))"
   ]
  },
  {
   "cell_type": "code",
   "execution_count": null,
   "metadata": {},
   "outputs": [],
   "source": []
  }
 ],
 "metadata": {
  "kernelspec": {
   "display_name": "Python 3",
   "language": "python",
   "name": "python3"
  },
  "language_info": {
   "codemirror_mode": {
    "name": "ipython",
    "version": 3
   },
   "file_extension": ".py",
   "mimetype": "text/x-python",
   "name": "python",
   "nbconvert_exporter": "python",
   "pygments_lexer": "ipython3",
   "version": "3.8.3"
  }
 },
 "nbformat": 4,
 "nbformat_minor": 4
}
